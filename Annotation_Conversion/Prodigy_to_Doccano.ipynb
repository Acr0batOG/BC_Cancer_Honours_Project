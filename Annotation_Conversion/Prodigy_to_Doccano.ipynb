{
 "cells": [
  {
   "cell_type": "code",
   "execution_count": 12,
   "id": "a8c79f68-66e9-4b82-9132-ba165c8eb574",
   "metadata": {},
   "outputs": [
    {
     "name": "stdout",
     "output_type": "stream",
     "text": [
      "Conversion complete! File saved to ../Doccano_Annotations/Prodigy_to_Doccano/_Matching_Reports\\9013084239\\423576.jsonl\n",
      "Conversion complete! File saved to ../Doccano_Annotations/Prodigy_to_Doccano/_Matching_Reports\\9013084239\\439236.jsonl\n",
      "Conversion complete! File saved to ../Doccano_Annotations/Prodigy_to_Doccano/_Matching_Reports\\9013236031\\1186628.jsonl\n",
      "Conversion complete! File saved to ../Doccano_Annotations/Prodigy_to_Doccano/_Matching_Reports\\9013236031\\1237713.jsonl\n",
      "Conversion complete! File saved to ../Doccano_Annotations/Prodigy_to_Doccano/_Matching_Reports\\9013236031\\1255834.jsonl\n"
     ]
    }
   ],
   "source": [
    "import json\n",
    "import os\n",
    "\n",
    "def prodigy_to_doccano(prodigy_data):\n",
    "    \"\"\"Convert Prodigy JSON to Doccano JSON.\"\"\"\n",
    "    \n",
    "    # Combine texts into a single string with newlines\n",
    "    combined_text = \"\\n\".join(entry[\"text\"] for entry in prodigy_data)\n",
    "    \n",
    "    i = 1  # Where we're gonna put each file ID and increment it\n",
    "\n",
    "    # Adjust label positions\n",
    "    current_offset = 0\n",
    "    labels = []\n",
    "    \n",
    "    for entry in prodigy_data:\n",
    "        if \"spans\" in entry:\n",
    "            for span in entry[\"spans\"]:\n",
    "                labels.append([span[\"start\"] + current_offset, span[\"end\"] + current_offset, span[\"label\"]])\n",
    "        current_offset += len(entry[\"text\"]) + 1  # Adding 1 for newline character\n",
    "    \n",
    "    # Construct final JSON object\n",
    "    output = {\n",
    "        \"id\": i,\n",
    "        \"text\": combined_text,\n",
    "        \"label\": labels,\n",
    "        \"Comments\": []  # No comments from Prodigy\n",
    "    }\n",
    "    \n",
    "    return output  # Ensure the function returns the converted data\n",
    "\n",
    "def convert_files(input_dir, output_dir):\n",
    "    \"\"\"Convert Prodigy JSONL files to Doccano JSONL format.\"\"\"\n",
    "    try:\n",
    "        for root, _, files in os.walk(input_dir):\n",
    "            for file in files:\n",
    "                if not file.endswith(\".jsonl\"):  # Ensure processing only JSONL files\n",
    "                    continue\n",
    "                \n",
    "                input_path = os.path.join(root, file)\n",
    "                relative_path = os.path.relpath(input_path, input_dir)\n",
    "                relative_path = os.path.splitext(relative_path)[0] \n",
    "                output_path = os.path.join(output_dir, relative_path + \".jsonl\")\n",
    "                \n",
    "                os.makedirs(os.path.dirname(output_path), exist_ok=True)\n",
    "                \n",
    "                prodigy_data = []\n",
    "                with open(input_path, \"r\", encoding=\"utf-8\") as file:\n",
    "                    for line in file:\n",
    "                        try:\n",
    "                            if line.strip():  # Ignore empty lines\n",
    "                                prodigy_data.append(json.loads(line))\n",
    "                        except json.JSONDecodeError:\n",
    "                            print(f\"Skipping invalid line in {input_path}: {line.strip()}\")\n",
    "                \n",
    "                # Convert Prodigy JSON to Doccano JSON\n",
    "                doccano_json = prodigy_to_doccano(prodigy_data)\n",
    "                \n",
    "                with open(output_path, \"w\", encoding=\"utf-8\") as file:\n",
    "                    json.dump(doccano_json, file, ensure_ascii=False, indent=None, separators=(',', ':'))\n",
    "                \n",
    "                print(f\"Conversion complete! File saved to {output_path}\")\n",
    "    except:\n",
    "        print(\"Error with reading the file\")\n",
    "\n",
    "def main():\n",
    "    input_dir = \"../Prodigy_Annotations/_Matching_Reports/JSON_Reports_Annotated\"\n",
    "    output_dir = \"../Doccano_Annotations/Prodigy_to_Doccano/_Matching_Reports\"\n",
    "    convert_files(input_dir, output_dir)\n",
    "\n",
    "if __name__ == \"__main__\":\n",
    "    main()\n"
   ]
  },
  {
   "cell_type": "code",
   "execution_count": null,
   "id": "3f30a490-f85c-40ad-8ecd-50507b035f4d",
   "metadata": {},
   "outputs": [],
   "source": []
  }
 ],
 "metadata": {
  "kernelspec": {
   "display_name": "Python 3 (ipykernel)",
   "language": "python",
   "name": "python3"
  },
  "language_info": {
   "codemirror_mode": {
    "name": "ipython",
    "version": 3
   },
   "file_extension": ".py",
   "mimetype": "text/x-python",
   "name": "python",
   "nbconvert_exporter": "python",
   "pygments_lexer": "ipython3",
   "version": "3.12.7"
  }
 },
 "nbformat": 4,
 "nbformat_minor": 5
}
