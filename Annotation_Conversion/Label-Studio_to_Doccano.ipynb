{
 "cells": [
  {
   "cell_type": "code",
   "execution_count": 13,
   "id": "f446ecb2-8eb9-4ac3-8e5c-940e896824a0",
   "metadata": {},
   "outputs": [
    {
     "name": "stdout",
     "output_type": "stream",
     "text": [
      "Conversion complete! File saved to ../Doccano_Annotations/Label-Studio_to_Doccano/JSON_Reports_Annotated\\9014961272\\602581.jsonl\n",
      "Conversion complete! File saved to ../Doccano_Annotations/Label-Studio_to_Doccano/JSON_Reports_Annotated\\9014961272\\649968.jsonl\n"
     ]
    }
   ],
   "source": [
    "import json\n",
    "import os\n",
    "\n",
    "def labelstudio_to_doccano(labelstudio_json):\n",
    "    \"\"\"Convert Label Studio JSON to Doccano JSONL.\"\"\"\n",
    "    doccano_data = []\n",
    "    \n",
    "    for entry in json.loads(labelstudio_json):\n",
    "        text = entry[\"data\"][\"text\"]\n",
    "        labels = []\n",
    "        \n",
    "        for annotation in entry[\"annotations\"]:\n",
    "            for result in annotation[\"result\"]:\n",
    "                value = result[\"value\"]\n",
    "                labels.append([value[\"start\"], value[\"end\"], value[\"labels\"][0]])\n",
    "        \n",
    "        doccano_entry = {\n",
    "            \"id\": entry[\"id\"],\n",
    "            \"text\": text,\n",
    "            \"label\": labels,\n",
    "            \"Comments\": []\n",
    "        }\n",
    "        doccano_data.append(doccano_entry)  # Append as dict, not JSON string\n",
    "    \n",
    "    return doccano_data  # Return list of dicts\n",
    "\n",
    "def convert_files(input_dir, output_dir):\n",
    "    \"\"\"Convert Label-Studio JSON files to Doccano JSONL format.\"\"\"\n",
    "    try:\n",
    "        for root, _, files in os.walk(input_dir):\n",
    "            for file in files:\n",
    "                if not file.endswith(\".json\"):  # Ensure processing only JSON files\n",
    "                    continue\n",
    "                input_path = os.path.join(root, file)\n",
    "                relative_path = os.path.relpath(input_path, input_dir)\n",
    "                relative_path = os.path.splitext(relative_path)[0] \n",
    "                output_path = os.path.join(output_dir, relative_path + \".jsonl\")\n",
    "                \n",
    "                os.makedirs(os.path.dirname(output_path), exist_ok=True)\n",
    "                \n",
    "                ls_data = []\n",
    "                with open(input_path, \"r\", encoding=\"utf-8\") as file:\n",
    "                    try:\n",
    "                        ls_data = json.load(file)  # Load full JSON file\n",
    "                    except json.JSONDecodeError as e:\n",
    "                        print(f\"Skipping invalid file {input_path}: {e}\")\n",
    "                        continue\n",
    "                \n",
    "                doccano_json = labelstudio_to_doccano(json.dumps(ls_data))  # Convert LS JSON to Doccano JSON\n",
    "    \n",
    "                with open(output_path, \"w\", encoding=\"utf-8\") as file:\n",
    "                    for entry in doccano_json:\n",
    "                        file.write(json.dumps(entry, ensure_ascii=False) + \"\\n\")  # Write each entry as a single line\n",
    "                \n",
    "                print(f\"Conversion complete! File saved to {output_path}\")\n",
    "    except:\n",
    "        print(\"Error in writing to file\")\n",
    "\n",
    "def main():\n",
    "    input_dir = \"../Label-Studio_Annotations/JSON_Reports_Annotated\"\n",
    "    output_dir = \"../Doccano_Annotations/Label-Studio_to_Doccano/JSON_Reports_Annotated\"\n",
    "    convert_files(input_dir, output_dir)\n",
    "\n",
    "if __name__ == \"__main__\":\n",
    "    main()\n"
   ]
  },
  {
   "cell_type": "code",
   "execution_count": null,
   "id": "e409b540-1c71-40a7-a204-90be5b7c83d6",
   "metadata": {},
   "outputs": [],
   "source": []
  },
  {
   "cell_type": "code",
   "execution_count": null,
   "id": "f8e6266b-ea57-4192-9165-3ce9bd921939",
   "metadata": {},
   "outputs": [],
   "source": []
  }
 ],
 "metadata": {
  "kernelspec": {
   "display_name": "Python 3 (ipykernel)",
   "language": "python",
   "name": "python3"
  },
  "language_info": {
   "codemirror_mode": {
    "name": "ipython",
    "version": 3
   },
   "file_extension": ".py",
   "mimetype": "text/x-python",
   "name": "python",
   "nbconvert_exporter": "python",
   "pygments_lexer": "ipython3",
   "version": "3.12.7"
  }
 },
 "nbformat": 4,
 "nbformat_minor": 5
}
